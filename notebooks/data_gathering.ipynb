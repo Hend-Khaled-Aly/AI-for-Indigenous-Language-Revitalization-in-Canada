{
 "cells": [
  {
   "cell_type": "code",
   "execution_count": 6,
   "id": "0d64d116",
   "metadata": {},
   "outputs": [],
   "source": [
    "import pandas as pd\n",
    "import numpy as np"
   ]
  },
  {
   "cell_type": "code",
   "execution_count": 7,
   "id": "a1e15669",
   "metadata": {},
   "outputs": [
    {
     "data": {
      "text/html": [
       "<div>\n",
       "<style scoped>\n",
       "    .dataframe tbody tr th:only-of-type {\n",
       "        vertical-align: middle;\n",
       "    }\n",
       "\n",
       "    .dataframe tbody tr th {\n",
       "        vertical-align: top;\n",
       "    }\n",
       "\n",
       "    .dataframe thead th {\n",
       "        text-align: right;\n",
       "    }\n",
       "</style>\n",
       "<table border=\"1\" class=\"dataframe\">\n",
       "  <thead>\n",
       "    <tr style=\"text-align: right;\">\n",
       "      <th></th>\n",
       "      <th>word</th>\n",
       "      <th>translation</th>\n",
       "      <th>audiourl</th>\n",
       "    </tr>\n",
       "  </thead>\n",
       "  <tbody>\n",
       "    <tr>\n",
       "      <th>0</th>\n",
       "      <td>acahkosak</td>\n",
       "      <td>stars</td>\n",
       "      <td>https://fv-media-uploads.s3.amazonaws.com/cree...</td>\n",
       "    </tr>\n",
       "    <tr>\n",
       "      <th>1</th>\n",
       "      <td>achimēwak</td>\n",
       "      <td>They are telling a story about him.</td>\n",
       "      <td>https://fv-media-uploads.s3.amazonaws.com/cree...</td>\n",
       "    </tr>\n",
       "    <tr>\n",
       "      <th>2</th>\n",
       "      <td>achimoh</td>\n",
       "      <td>Tell a story!</td>\n",
       "      <td>https://fv-media-uploads.s3.amazonaws.com/cree...</td>\n",
       "    </tr>\n",
       "    <tr>\n",
       "      <th>3</th>\n",
       "      <td>achimostamawâw</td>\n",
       "      <td>A story is told to him/her</td>\n",
       "      <td>https://fv-media-uploads.s3.amazonaws.com/cree...</td>\n",
       "    </tr>\n",
       "    <tr>\n",
       "      <th>4</th>\n",
       "      <td>achimostaw</td>\n",
       "      <td>Tell him a story.</td>\n",
       "      <td>https://fv-media-uploads.s3.amazonaws.com/cree...</td>\n",
       "    </tr>\n",
       "  </tbody>\n",
       "</table>\n",
       "</div>"
      ],
      "text/plain": [
       "             word                          translation  \\\n",
       "0       acahkosak                                stars   \n",
       "1       achimēwak  They are telling a story about him.   \n",
       "2         achimoh                        Tell a story!   \n",
       "3  achimostamawâw           A story is told to him/her   \n",
       "4      achimostaw                    Tell him a story.   \n",
       "\n",
       "                                            audiourl  \n",
       "0  https://fv-media-uploads.s3.amazonaws.com/cree...  \n",
       "1  https://fv-media-uploads.s3.amazonaws.com/cree...  \n",
       "2  https://fv-media-uploads.s3.amazonaws.com/cree...  \n",
       "3  https://fv-media-uploads.s3.amazonaws.com/cree...  \n",
       "4  https://fv-media-uploads.s3.amazonaws.com/cree...  "
      ]
     },
     "execution_count": 7,
     "metadata": {},
     "output_type": "execute_result"
    }
   ],
   "source": [
    "df = pd.read_csv('../data/raw/Dataset-Words_Translation_URLS.csv')\n",
    "df.head()"
   ]
  },
  {
   "cell_type": "code",
   "execution_count": 8,
   "id": "33e58b96",
   "metadata": {},
   "outputs": [
    {
     "name": "stdout",
     "output_type": "stream",
     "text": [
      "<class 'pandas.core.frame.DataFrame'>\n",
      "RangeIndex: 992 entries, 0 to 991\n",
      "Data columns (total 3 columns):\n",
      " #   Column       Non-Null Count  Dtype \n",
      "---  ------       --------------  ----- \n",
      " 0   word         992 non-null    object\n",
      " 1   translation  992 non-null    object\n",
      " 2   audiourl     982 non-null    object\n",
      "dtypes: object(3)\n",
      "memory usage: 23.4+ KB\n"
     ]
    }
   ],
   "source": [
    "df.info()"
   ]
  },
  {
   "cell_type": "code",
   "execution_count": 9,
   "id": "e7b754fe",
   "metadata": {},
   "outputs": [],
   "source": [
    "df['audio'] = df.apply(\n",
    "    lambda row: row['word'].replace(' ', '_') + '.mp3' if pd.notnull(row['audiourl']) else np.nan,\n",
    "    axis=1\n",
    ")"
   ]
  },
  {
   "cell_type": "code",
   "execution_count": 10,
   "id": "78dc474a",
   "metadata": {},
   "outputs": [
    {
     "data": {
      "text/html": [
       "<div>\n",
       "<style scoped>\n",
       "    .dataframe tbody tr th:only-of-type {\n",
       "        vertical-align: middle;\n",
       "    }\n",
       "\n",
       "    .dataframe tbody tr th {\n",
       "        vertical-align: top;\n",
       "    }\n",
       "\n",
       "    .dataframe thead th {\n",
       "        text-align: right;\n",
       "    }\n",
       "</style>\n",
       "<table border=\"1\" class=\"dataframe\">\n",
       "  <thead>\n",
       "    <tr style=\"text-align: right;\">\n",
       "      <th></th>\n",
       "      <th>word</th>\n",
       "      <th>translation</th>\n",
       "      <th>audiourl</th>\n",
       "      <th>audio</th>\n",
       "    </tr>\n",
       "  </thead>\n",
       "  <tbody>\n",
       "    <tr>\n",
       "      <th>0</th>\n",
       "      <td>acahkosak</td>\n",
       "      <td>stars</td>\n",
       "      <td>https://fv-media-uploads.s3.amazonaws.com/cree...</td>\n",
       "      <td>acahkosak.mp3</td>\n",
       "    </tr>\n",
       "    <tr>\n",
       "      <th>1</th>\n",
       "      <td>achimēwak</td>\n",
       "      <td>They are telling a story about him.</td>\n",
       "      <td>https://fv-media-uploads.s3.amazonaws.com/cree...</td>\n",
       "      <td>achimēwak.mp3</td>\n",
       "    </tr>\n",
       "    <tr>\n",
       "      <th>2</th>\n",
       "      <td>achimoh</td>\n",
       "      <td>Tell a story!</td>\n",
       "      <td>https://fv-media-uploads.s3.amazonaws.com/cree...</td>\n",
       "      <td>achimoh.mp3</td>\n",
       "    </tr>\n",
       "    <tr>\n",
       "      <th>3</th>\n",
       "      <td>achimostamawâw</td>\n",
       "      <td>A story is told to him/her</td>\n",
       "      <td>https://fv-media-uploads.s3.amazonaws.com/cree...</td>\n",
       "      <td>achimostamawâw.mp3</td>\n",
       "    </tr>\n",
       "    <tr>\n",
       "      <th>4</th>\n",
       "      <td>achimostaw</td>\n",
       "      <td>Tell him a story.</td>\n",
       "      <td>https://fv-media-uploads.s3.amazonaws.com/cree...</td>\n",
       "      <td>achimostaw.mp3</td>\n",
       "    </tr>\n",
       "  </tbody>\n",
       "</table>\n",
       "</div>"
      ],
      "text/plain": [
       "             word                          translation  \\\n",
       "0       acahkosak                                stars   \n",
       "1       achimēwak  They are telling a story about him.   \n",
       "2         achimoh                        Tell a story!   \n",
       "3  achimostamawâw           A story is told to him/her   \n",
       "4      achimostaw                    Tell him a story.   \n",
       "\n",
       "                                            audiourl               audio  \n",
       "0  https://fv-media-uploads.s3.amazonaws.com/cree...       acahkosak.mp3  \n",
       "1  https://fv-media-uploads.s3.amazonaws.com/cree...       achimēwak.mp3  \n",
       "2  https://fv-media-uploads.s3.amazonaws.com/cree...         achimoh.mp3  \n",
       "3  https://fv-media-uploads.s3.amazonaws.com/cree...  achimostamawâw.mp3  \n",
       "4  https://fv-media-uploads.s3.amazonaws.com/cree...      achimostaw.mp3  "
      ]
     },
     "execution_count": 10,
     "metadata": {},
     "output_type": "execute_result"
    }
   ],
   "source": [
    "df.head()"
   ]
  },
  {
   "cell_type": "code",
   "execution_count": 11,
   "id": "b2a29b9f",
   "metadata": {},
   "outputs": [
    {
     "name": "stdout",
     "output_type": "stream",
     "text": [
      "<class 'pandas.core.frame.DataFrame'>\n",
      "RangeIndex: 992 entries, 0 to 991\n",
      "Data columns (total 4 columns):\n",
      " #   Column       Non-Null Count  Dtype \n",
      "---  ------       --------------  ----- \n",
      " 0   word         992 non-null    object\n",
      " 1   translation  992 non-null    object\n",
      " 2   audiourl     982 non-null    object\n",
      " 3   audio        982 non-null    object\n",
      "dtypes: object(4)\n",
      "memory usage: 31.1+ KB\n"
     ]
    }
   ],
   "source": [
    "df.info()"
   ]
  },
  {
   "cell_type": "code",
   "execution_count": 12,
   "id": "e7c667f3",
   "metadata": {},
   "outputs": [
    {
     "name": "stdout",
     "output_type": "stream",
     "text": [
      "<class 'pandas.core.frame.DataFrame'>\n",
      "RangeIndex: 992 entries, 0 to 991\n",
      "Data columns (total 3 columns):\n",
      " #   Column       Non-Null Count  Dtype \n",
      "---  ------       --------------  ----- \n",
      " 0   word         992 non-null    object\n",
      " 1   translation  992 non-null    object\n",
      " 2   audio        982 non-null    object\n",
      "dtypes: object(3)\n",
      "memory usage: 23.4+ KB\n"
     ]
    }
   ],
   "source": [
    "df = df.drop(columns=['audiourl'])\n",
    "df.info()"
   ]
  },
  {
   "cell_type": "code",
   "execution_count": 13,
   "id": "55665f46",
   "metadata": {},
   "outputs": [],
   "source": [
    "df.to_csv('../data/cleaned/cree_dataset.csv', index=False)\n",
    "df.to_json('../data/cleaned/cree_dataset.json', orient='records', lines=True)"
   ]
  },
  {
   "cell_type": "code",
   "execution_count": 15,
   "id": "cc627dda",
   "metadata": {},
   "outputs": [],
   "source": [
    "df.to_json('../data/cleaned/cree_dataset.json', orient='records', indent=2, force_ascii=False)"
   ]
  },
  {
   "cell_type": "code",
   "execution_count": null,
   "id": "bf8bd17b",
   "metadata": {},
   "outputs": [],
   "source": []
  }
 ],
 "metadata": {
  "kernelspec": {
   "display_name": "base",
   "language": "python",
   "name": "python3"
  },
  "language_info": {
   "codemirror_mode": {
    "name": "ipython",
    "version": 3
   },
   "file_extension": ".py",
   "mimetype": "text/x-python",
   "name": "python",
   "nbconvert_exporter": "python",
   "pygments_lexer": "ipython3",
   "version": "3.12.7"
  }
 },
 "nbformat": 4,
 "nbformat_minor": 5
}
